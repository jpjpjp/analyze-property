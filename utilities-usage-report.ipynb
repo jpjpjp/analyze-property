{
 "cells": [
  {
   "cell_type": "code",
   "execution_count": null,
   "metadata": {
    "code_folding": []
   },
   "outputs": [],
   "source": [
    "# Generate a Utilities Usage report for a given unit\n",
    "\n",
    "# Set dates in YYYY-MM-DD format\n",
    "start_date = '2020-01-01'  \n",
    "end_date = '2020-12-31'\n",
    "\n",
    "# Specify where to find the input files\n",
    "# the root directory where you are running jupyter notebook\n",
    "\n",
    "# Transactions is CSV file that tracks all property related credits and debits\n",
    "# move your MINT.com transactions.csv into this project directory\n",
    "PATH_TO_YOUR_TRANSACTIONS = \"transactions.csv\"\n",
    "\n",
    "# UTILS is a csv file that specifies the monthly utilities cost included in the rent for each unit\n",
    "PATH_TO_UTIL_LIMITS = \"util-limits.csv\" # Used to calculate tenant charges for utilities\n",
    "\n",
    "# Load Transaction Data from a CSV File\n",
    "\n",
    "import pandas as pd\n",
    "import numpy as np\n",
    "%matplotlib inline\n",
    "import matplotlib.pyplot as plt\n",
    "import matplotlib.ticker as mtick\n",
    "\n",
    "\n",
    "# Set the name of the column where the transactions are categorized\n",
    "# In Mint this is usually \"Category\".  I use Mint's category to link \n",
    "# transactions to a property and the add a seperate \"Label\" column\n",
    "# after exporting the data for a property from Mint\n",
    "CATEGORY = \"Label\"\n",
    "\n",
    "# Load the transaction data from the csv into a dataframe\n",
    "parse_dates = ['Date']\n",
    "df = pd.read_csv(PATH_TO_YOUR_TRANSACTIONS, parse_dates=parse_dates)\n",
    "df.set_index(['Date'], inplace=True)\n",
    "df['Amount'] = df['Amount'].astype(float)\n",
    "\n",
    "# Get rid of Mint columns that we don't care about\n",
    "df.drop(['Category', 'Original Description','Account Name', 'Notes'], axis=1, inplace=True)\n",
    "\n",
    "if df.empty:\n",
    "    print('No data to process for date range ', start_date, '-', end_date)\n",
    "else:\n",
    "    print('Will analyze utilities transactions from', start_date, 'to', end_date)\n"
   ]
  },
  {
   "cell_type": "code",
   "execution_count": null,
   "metadata": {},
   "outputs": [],
   "source": [
    "# Sanity check that all entries that should have a unit do\n",
    "unit_entries = df[(df[CATEGORY] == 'Utilities') | (df[CATEGORY] == 'Rent')]\n",
    "\n",
    "if not unit_entries[unit_entries['Unit'].isnull()].empty:\n",
    "    unit_entries[unit_entries['Unit'].isnull()]\n",
    "else:\n",
    "    print('Transaction data includes unit info for all transactions in the rent and utilities categories.')"
   ]
  },
  {
   "cell_type": "code",
   "execution_count": null,
   "metadata": {},
   "outputs": [],
   "source": [
    "# Read in the monthly utilities max before reimbursement.\n",
    "# This cell has no output\n",
    "limit_df = pd.read_csv(PATH_TO_UTIL_LIMITS, parse_dates=False)\n",
    "limit_df.set_index(['Unit'], inplace=True)\n",
    "limit_df['Amount'] = limit_df['Amount'].astype(float)\n"
   ]
  },
  {
   "cell_type": "code",
   "execution_count": null,
   "metadata": {},
   "outputs": [],
   "source": [
    "# Remove any non-utility related transactions \n",
    "\n",
    "df = df[df[CATEGORY] == 'Utilities']\n",
    "df.sort_index(inplace=True)\n",
    "# Remove transactions outside of the specified date range\n",
    "df = df.loc[start_date:end_date]\n",
    "\n",
    "if not df.empty:\n",
    "    print('Will analyze %d utilities transaction in the time period' % len(df))\n",
    "else:\n",
    "    print('No utilities data for the date range and unit specified.')\n"
   ]
  },
  {
   "cell_type": "code",
   "execution_count": null,
   "metadata": {},
   "outputs": [],
   "source": [
    "# Function to generate the report for a unit\n",
    "# This cell does not generate output but is needed by the next cell\n",
    "\n",
    "def generate_unit_report(UNIT, df):\n",
    "    # Remove transactions related to other units\n",
    "    unit_df = df[df['Unit'] == UNIT]\n",
    "    # Drop those columns\n",
    "    unit_df.drop([CATEGORY,'Unit'], axis=1, inplace=True)\n",
    "    # Get the limit for this unit\n",
    "    UNIT_UTIL_LIMIT = limit_df.loc[UNIT].Amount\n",
    "    if not UNIT_UTIL_LIMIT:\n",
    "        print('Cannot find the allowed utilities expense included in rent for unit:', UNIT)\n",
    "\n",
    "    print('Utilities Usage Report for 122 Spring St, Apt %s' % UNIT)\n",
    "    print('Report Period:', start_date, '-', end_date)\n",
    "    print('Monthly Utilities included in rent:${:,.2f}'.format(UNIT_UTIL_LIMIT))\n",
    "\n",
    "    usage = unit_df[unit_df['Transaction Type'] == 'debit']\n",
    "    credits = unit_df[unit_df['Transaction Type'] == 'credit']\n",
    "    payments_received = 0.0\n",
    "\n",
    "    if not credits.empty:\n",
    "        print('\\nReimbursement payments recieved:')\n",
    "        payments_received = credits.Amount.sum();\n",
    "        display(credits[['Description', 'Amount']])\n",
    "\n",
    "\n",
    "    if not usage.empty:\n",
    "        # Calculate any months that incurred overages\n",
    "        overage = usage.assign(Overage=lambda x: x.Amount - UNIT_UTIL_LIMIT)\n",
    "        overage.Overage[overage.Overage < 0] = 0\n",
    "\n",
    "        # Display table monthly charges with overage info\n",
    "        print('\\nUtility payments made by landlord during period:')\n",
    "        display(overage[['Description', 'Amount', 'Overage']])\n",
    "\n",
    "        if overage.Overage.sum() > 0:\n",
    "            print('Overage for report period: ${:,.2f}'.format(overage['Overage'].sum()))\n",
    "            if payments_received > 0:\n",
    "                print('Payments received in period: ${:,.2f}'.format(payments_received), '\\n')\n",
    "                print('Outstanding balance due: ${:,.2f}'.format(overage['Overage'].sum() - payments_received))\n",
    "                \n",
    "\n",
    "    else:\n",
    "        print('No Utilities usage for period.')\n",
    "        \n",
    "    print('\\n\\n')\n",
    "\n"
   ]
  },
  {
   "cell_type": "code",
   "execution_count": null,
   "metadata": {},
   "outputs": [],
   "source": [
    "# Loop through all the units and print a report\n",
    "\n",
    "# Disable warning generated when setting negative overage values to zero\n",
    "pd.set_option('mode.chained_assignment', None)\n",
    "\n",
    "for UNIT in sorted(df['Unit'].unique()):\n",
    "    generate_unit_report(UNIT, df)\n",
    "# Renable warning        \n",
    "pd.set_option('mode.chained_assignment', 'warn')\n"
   ]
  },
  {
   "cell_type": "code",
   "execution_count": null,
   "metadata": {},
   "outputs": [],
   "source": []
  }
 ],
 "metadata": {
  "kernelspec": {
   "display_name": "Python 3",
   "language": "python",
   "name": "python3"
  },
  "language_info": {
   "codemirror_mode": {
    "name": "ipython",
    "version": 3
   },
   "file_extension": ".py",
   "mimetype": "text/x-python",
   "name": "python",
   "nbconvert_exporter": "python",
   "pygments_lexer": "ipython3",
   "version": "3.9.1"
  }
 },
 "nbformat": 4,
 "nbformat_minor": 1
}
