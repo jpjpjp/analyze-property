{
 "cells": [
  {
   "cell_type": "code",
   "execution_count": null,
   "metadata": {
    "code_folding": []
   },
   "outputs": [],
   "source": [
    "### DISCLAIMER: \n",
    "### FOR ALL TAX-RELATED QUESTIONS AND CONCERNS PLEASE ASK A CERTIFIED ACCOUNTANT\n",
    "\n",
    "# This notebook analyzes security related transactions for a property\n",
    "# All security related transactions should have the label/category \"Security\"\n",
    "\n",
    "# In mint a Security received from a tenant is set to a credit transaction \n",
    "#(even though this is a liability carried by the property owner)\n",
    "\n",
    "# Security returned to a tenant is set to a debit transaction\n",
    "\n",
    "# When some security is kept, two transactions should be manually entered:\n",
    "# The first transaction should be debit labeled \"Security\" to indicate that\n",
    "# the liability to return the security to the tenant has been removed\n",
    "# Additional transaction(s) should be a credit and categorized for what the \n",
    "# kept security was used for so that the income/expense is properly calculate\n",
    "\n",
    "# Example: A tenant paid a $1000 deposit.  When she moved out $700 was returned\n",
    "# to her, $200 was kept to offset Utilities overages, and $100 was used for cleaning\n",
    "# This would require the following in the transaction data\n",
    "# -- \"Security\" credit for $1000 to represent the initial tenant payment\n",
    "# -- \"Security\" debit of $700 to represent the amount returned to the tenant\n",
    "# -- \"Security\" debit of $300 to represent the \"Kept Security\" for utiltiies and cleaning\n",
    "# -- \"Utilties\" credit of $200 to represent the utilities expense offset from the kept security\n",
    "# -- \"Maintenance\" credit of $100 to represent the maintenance expense offset \n",
    "\n",
    "# Note that this notebook does not work with categories other than \"Security\", but the overall\n",
    "# Income/Expense analysis requires the additional expense offsets\n",
    "\n",
    "import pandas as pd\n",
    "import numpy as np\n",
    "%matplotlib inline\n",
    "import matplotlib.pyplot as plt\n",
    "import matplotlib.ticker as mtick\n",
    "\n",
    "# Prior to running move your MINT.com transactions.csv into this project directory\n",
    "PATH_TO_YOUR_TRANSACTIONS = \"transactions.csv\"\n",
    "PATH_TO_RENTS = \"rents.csv\"\n",
    "\n",
    "# Set the name of the column where the transactions are categorized\n",
    "# In Mint this is usually \"Category\".  I use Mint's category to link \n",
    "# transactions to a property and the add a seperate \"Label\" column\n",
    "# after exporting the data for a property from Min\n",
    "CATEGORY = \"Label\"\n",
    "\n",
    "\n",
    "# Load the transaction data from the csv into a dataframe\n",
    "parse_dates = ['Date']\n",
    "df = pd.read_csv(PATH_TO_YOUR_TRANSACTIONS, parse_dates=parse_dates)\n",
    "df.set_index(['Date'], inplace=True)\n",
    "df['Amount'] = df['Amount'].astype(float)\n",
    "\n",
    "# Get rid of Mint columns that we don't care about\n",
    "df.drop(['Original Description', 'Notes', 'Category', 'Account Name'], axis=1, inplace=True)\n",
    "# Ignore everything other than the security related transactions\n",
    "df = df[(df[CATEGORY] == 'Security') | (df[CATEGORY] == 'Security-Income')]\n",
    "df.sort_index(inplace=True)\n",
    "# Show all the security related transations\n",
    "df"
   ]
  },
  {
   "cell_type": "code",
   "execution_count": null,
   "metadata": {},
   "outputs": [],
   "source": [
    "## Show the Current Security Liability for Each Unit\n",
    "\n",
    "# Read in the rents data so we know the units\n",
    "rents = pd.read_csv(PATH_TO_RENTS)\n",
    "rents.set_index(['Year'], inplace=True)\n",
    "\n",
    "for unit in rents.columns:\n",
    "    unit_df = df[df['Unit'] == unit]\n",
    "    collected = unit_df[(unit_df['Transaction Type'] == 'credit')]['Amount'].sum()\n",
    "    returned = unit_df[(unit_df['Transaction Type'] == 'debit')]['Amount'].sum()\n",
    "    print('Current Liability on Unit '+str(unit)+': ${:,.2f}'.format(collected-returned))\n"
   ]
  },
  {
   "cell_type": "code",
   "execution_count": null,
   "metadata": {},
   "outputs": [],
   "source": []
  }
 ],
 "metadata": {
  "kernelspec": {
   "display_name": "Python 3",
   "language": "python",
   "name": "python3"
  },
  "language_info": {
   "codemirror_mode": {
    "name": "ipython",
    "version": 3
   },
   "file_extension": ".py",
   "mimetype": "text/x-python",
   "name": "python",
   "nbconvert_exporter": "python",
   "pygments_lexer": "ipython3",
   "version": "3.9.1"
  }
 },
 "nbformat": 4,
 "nbformat_minor": 1
}
